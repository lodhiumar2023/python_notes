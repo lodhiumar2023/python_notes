{
  "cells": [
    {
      "cell_type": "markdown",
      "source": [
        "## **Author:** Umar Hayat Khan Lodhi\n",
        "## **Subject:** Python Notes\n",
        "## **Contact:** lodhiumar2023@gmail.com\n",
        "## **Github:** https://github.com/lodhiumar2023"
      ],
      "metadata": {
        "id": "gg3vbsOitXnZ"
      }
    },
    {
      "cell_type": "markdown",
      "source": [],
      "metadata": {
        "id": "ch0iD5O83Z0G"
      }
    },
    {
      "cell_type": "markdown",
      "metadata": {
        "id": "0c-pKTn7KZG2"
      },
      "source": [
        "# Variable in Python\n",
        "\n",
        "Data/ Values can be stored in temporary storage spaces called variables"
      ]
    },
    {
      "cell_type": "code",
      "execution_count": 56,
      "metadata": {
        "colab": {
          "base_uri": "https://localhost:8080/"
        },
        "id": "Kgn2geP3Kg61",
        "outputId": "09a6c895-ca84-41b8-f8bb-e684deecfbe5"
      },
      "outputs": [
        {
          "output_type": "stream",
          "name": "stdout",
          "text": [
            "Windows\n"
          ]
        }
      ],
      "source": [
        "# os is a variable\n",
        "\n",
        "os =  \"Windows\"\n",
        "print(os)"
      ]
    },
    {
      "cell_type": "markdown",
      "metadata": {
        "id": "hpUrSkIZLWt3"
      },
      "source": [
        "# Each variable is associated with a data-type\n",
        "1. int (Numbers values)\n",
        "2. float (Numbers with decimal values)\n",
        "3. Bolean (True, Flase, 1, 0)\n",
        "4. string (Data wtih quores 'Windows', \"Wnidows\", \"'Windows'\")\n",
        "5. complex (Real Part and Imaginary Party 3+4j) in python j presents i"
      ]
    },
    {
      "cell_type": "code",
      "execution_count": null,
      "metadata": {
        "colab": {
          "base_uri": "https://localhost:8080/"
        },
        "id": "yoiqzkuxLB9X",
        "outputId": "0f5459bd-b3d2-41a2-db97-83af20a261af"
      },
      "outputs": [
        {
          "output_type": "stream",
          "name": "stdout",
          "text": [
            "10\n",
            "<class 'int'>\n"
          ]
        }
      ],
      "source": [
        "integer_data = 10\n",
        "print(integer_data)\n",
        "print(type(integer_data)) # to check data type"
      ]
    },
    {
      "cell_type": "code",
      "execution_count": null,
      "metadata": {
        "colab": {
          "base_uri": "https://localhost:8080/"
        },
        "id": "qy-tsW7_Liw3",
        "outputId": "62d9af6e-3dc9-4678-9f8f-1593bad12fe7"
      },
      "outputs": [
        {
          "output_type": "stream",
          "name": "stdout",
          "text": [
            "10.2\n",
            "<class 'float'>\n"
          ]
        }
      ],
      "source": [
        "float_data = 10.2\n",
        "print(float_data)\n",
        "print(type(float_data))"
      ]
    },
    {
      "cell_type": "code",
      "execution_count": null,
      "metadata": {
        "colab": {
          "base_uri": "https://localhost:8080/"
        },
        "id": "JnklUQtKMTZh",
        "outputId": "02aac4e7-2619-42ff-d4ed-97964ede1643"
      },
      "outputs": [
        {
          "output_type": "stream",
          "name": "stdout",
          "text": [
            "True\n",
            "<class 'bool'>\n"
          ]
        }
      ],
      "source": [
        "bolean_data = True\n",
        "print(bolean_data)\n",
        "print(type(bolean_data))"
      ]
    },
    {
      "cell_type": "code",
      "execution_count": null,
      "metadata": {
        "colab": {
          "base_uri": "https://localhost:8080/"
        },
        "id": "qrQKQV1FMZ39",
        "outputId": "de9babfa-74b1-43fc-d75d-74ccfbe6f643"
      },
      "outputs": [
        {
          "output_type": "stream",
          "name": "stdout",
          "text": [
            "10.2\n",
            "<class 'str'>\n"
          ]
        }
      ],
      "source": [
        "string_data = \"Windows\"\n",
        "print(float_data)\n",
        "print(type(string_data))"
      ]
    },
    {
      "cell_type": "code",
      "execution_count": null,
      "metadata": {
        "colab": {
          "base_uri": "https://localhost:8080/"
        },
        "id": "_YBFzpHqOAjc",
        "outputId": "4e5b798b-db94-4220-8d07-cadca32b09a1"
      },
      "outputs": [
        {
          "output_type": "stream",
          "name": "stdout",
          "text": [
            "10.2\n",
            "<class 'complex'>\n"
          ]
        }
      ],
      "source": [
        " # 3 is real part and 4j is imaginary part\n",
        "complex_data = 3 + 4j\n",
        "print(float_data)\n",
        "print(type(complex_data))"
      ]
    },
    {
      "cell_type": "markdown",
      "metadata": {
        "id": "zEmN05TxPU7s"
      },
      "source": [
        "# Operators in Python\n",
        "Operators are used to perform operations on variables and values.\n",
        "\n",
        "1. Arithmetic Operators (+, -, /, *)\n",
        "2. Relational Operators (<, >, ==, !=)\n",
        "3. Logical Operators ( and &, or | )"
      ]
    },
    {
      "cell_type": "markdown",
      "metadata": {
        "id": "JpAtINJkRQfr"
      },
      "source": [
        "# Arithmetic Operators (+, -, /, *)"
      ]
    },
    {
      "cell_type": "code",
      "execution_count": null,
      "metadata": {
        "colab": {
          "base_uri": "https://localhost:8080/"
        },
        "id": "d_qfpzTMPD0U",
        "outputId": "be2a87bc-b2c5-4ca4-931b-fe5ea96ecc6f"
      },
      "outputs": [
        {
          "output_type": "stream",
          "name": "stdout",
          "text": [
            "30\n",
            "10\n",
            "2.0\n",
            "200\n"
          ]
        }
      ],
      "source": [
        "a = 20\n",
        "b = 10\n",
        "\n",
        "print(a+b) # Addition\n",
        "print(a-b) # Subtraction\n",
        "print(a/b) # Division\n",
        "print(a*b) # Multiplication"
      ]
    },
    {
      "cell_type": "markdown",
      "metadata": {
        "id": "f3lvcX0jRS53"
      },
      "source": [
        "# Relational Operators (<, >, ==, !=)"
      ]
    },
    {
      "cell_type": "code",
      "execution_count": null,
      "metadata": {
        "colab": {
          "base_uri": "https://localhost:8080/"
        },
        "id": "tV4VdH6wQSk6",
        "outputId": "af1a08a8-95d9-4219-ccd5-9dc012d9b8ef"
      },
      "outputs": [
        {
          "output_type": "stream",
          "name": "stdout",
          "text": [
            "False\n",
            "True\n",
            "False\n",
            "True\n"
          ]
        }
      ],
      "source": [
        "a = 20\n",
        "b = 10\n",
        "\n",
        "print(a<b)  # Less Than\n",
        "print(a>b)  # Greater Than\n",
        "print(a==b) # Equal to\n",
        "print(a!=b) # Not equal to"
      ]
    },
    {
      "cell_type": "markdown",
      "metadata": {
        "id": "cH0bpbDdSCs7"
      },
      "source": [
        "# Logical Operators ( and &, or | )"
      ]
    },
    {
      "cell_type": "code",
      "execution_count": null,
      "metadata": {
        "colab": {
          "base_uri": "https://localhost:8080/"
        },
        "id": "TFIBuQ86RK-R",
        "outputId": "6ab9ee15-845d-4eb8-91f1-4242dc846274"
      },
      "outputs": [
        {
          "output_type": "stream",
          "name": "stdout",
          "text": [
            "True\n",
            "False\n",
            "False\n",
            "\n",
            "True\n",
            "True\n",
            "False\n"
          ]
        }
      ],
      "source": [
        "a = True\n",
        "b = False\n",
        "\n",
        "# When the value of two operations is \"True\" so output will be \"True\", otherwise \"False\".\n",
        "print(a & a)\n",
        "print(a & b)\n",
        "print(b & b)\n",
        "\n",
        "print()\n",
        "\n",
        "# When value of an operation is \"True\" so output will be \"True\".\n",
        "print(a | a)\n",
        "print(a | b)\n",
        "print(b | b)\n"
      ]
    },
    {
      "cell_type": "markdown",
      "metadata": {
        "id": "jn9r2D8oXKP2"
      },
      "source": [
        "# Python Token\n",
        "Smallest meaningful compnents in a program\n",
        "1. **Keywords** (Keywords are special reserved words and cannot be used as variable)\n",
        "![Screenshot 2024-04-11 183542.png](data:image/png;base64,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)\n",
        "\n",
        "2. **Identifier** (Identifiers are names used for variables, functions, or objects)\n",
        "   \n",
        "    **RULES**\\\n",
        "    a. No special character except _(underscore)\\\n",
        "    b. Identifier are case sensitive.\\\n",
        "    c. First character cannot be a digit.\n",
        "\n",
        "\n",
        "3. **Literals** (Literals are constents, means stored value in variables are literals)\n",
        "\n",
        "4. **Operators**\\\n",
        "    a. Arithmetic Operators (+, -, /, *)\\\n",
        "    b. Relational Operators (<, >, ==, !=)\\\n",
        "    c. Logical Operators"
      ]
    },
    {
      "cell_type": "markdown",
      "metadata": {
        "id": "znZcV1zncW5J"
      },
      "source": [
        "# Working with Strings in Python\n",
        "Strings are sequence of characters enclosed within single quotes(''), double qoutes(\"\"), or triple quotes(''' ''')\\\n",
        "    a. 'Hellow World'\\\n",
        "    b. \"Hellow World\"\\\n",
        "    c. '''Hellow World''' (Used for multi lines strings)"
      ]
    },
    {
      "cell_type": "code",
      "execution_count": null,
      "metadata": {
        "colab": {
          "base_uri": "https://localhost:8080/"
        },
        "id": "LpM44DIASXBJ",
        "outputId": "d8f8049f-ea58-4a1e-9dc9-cbb49790c8fe"
      },
      "outputs": [
        {
          "output_type": "stream",
          "name": "stdout",
          "text": [
            "This is a single quotes string\n",
            "This is a double quotes string\n",
            "\n",
            "These are multi lines\n",
            "These are multi lines\n",
            "These are multi lines\n",
            "\n"
          ]
        }
      ],
      "source": [
        "single_quotes_string = 'This is a single quotes string'\n",
        "double_quotes_string = \"This is a double quotes string\"\n",
        "triple_quotes_string = '''\n",
        "These are multi lines\n",
        "These are multi lines\n",
        "These are multi lines\n",
        "'''\n",
        "\n",
        "print(single_quotes_string)\n",
        "print(double_quotes_string)\n",
        "print(triple_quotes_string)"
      ]
    },
    {
      "cell_type": "markdown",
      "metadata": {
        "id": "Fo1IxWtGeS4g"
      },
      "source": [
        "# Extract individual character using indexes or indices."
      ]
    },
    {
      "cell_type": "code",
      "execution_count": null,
      "metadata": {
        "colab": {
          "base_uri": "https://localhost:8080/"
        },
        "id": "m551Y70Ndaik",
        "outputId": "8b6970dc-e366-44d8-a519-6335a208bc68"
      },
      "outputs": [
        {
          "output_type": "stream",
          "name": "stdout",
          "text": [
            "ABCD\n"
          ]
        }
      ],
      "source": [
        "# In python index strated from 0\n",
        "# for example\n",
        "# A = 0\n",
        "# B = 1\n",
        "# C = 2\n",
        "# D = 3\n",
        "\n",
        "string = \"ABCD\"\n",
        "print(string)"
      ]
    },
    {
      "cell_type": "code",
      "execution_count": null,
      "metadata": {
        "colab": {
          "base_uri": "https://localhost:8080/"
        },
        "id": "m4fhlo53gCCn",
        "outputId": "59f82471-4d4d-448c-c611-ffee78bceb31"
      },
      "outputs": [
        {
          "output_type": "stream",
          "name": "stdout",
          "text": [
            "A\n",
            "\n",
            "B\n",
            "\n",
            "C\n",
            "\n",
            "D\n"
          ]
        }
      ],
      "source": [
        "# Extracting characters.\n",
        "\n",
        "character_1_extracting = string[0]\n",
        "print(character_1_extracting)\n",
        "\n",
        "print() # for blank row\n",
        "\n",
        "character_2_extracting = string[1]\n",
        "print(character_2_extracting)\n",
        "\n",
        "print() # for blank row\n",
        "\n",
        "character_3_extracting = string[2]\n",
        "print(character_3_extracting)\n",
        "\n",
        "print() # for blank row\n",
        "\n",
        "character_4_extracting = string[3]\n",
        "print(character_4_extracting)\n"
      ]
    },
    {
      "cell_type": "code",
      "execution_count": null,
      "metadata": {
        "colab": {
          "base_uri": "https://localhost:8080/"
        },
        "id": "U-BqqRImglj-",
        "outputId": "57c33431-7440-4e77-e7e0-cedd8ce1777e"
      },
      "outputs": [
        {
          "output_type": "stream",
          "name": "stdout",
          "text": [
            "AB\n"
          ]
        }
      ],
      "source": [
        "# To extract more than one character.\n",
        "\n",
        "more_characters_extracting = string[0:2] # Index of character 2 is exclusive.\n",
        "print(more_characters_extracting)"
      ]
    },
    {
      "cell_type": "code",
      "execution_count": null,
      "metadata": {
        "colab": {
          "base_uri": "https://localhost:8080/"
        },
        "id": "Acq7fUuNhrwN",
        "outputId": "f123630f-8b23-4245-fe37-785935709c87"
      },
      "outputs": [
        {
          "output_type": "stream",
          "name": "stdout",
          "text": [
            "D\n",
            "\n",
            "C\n",
            "\n",
            "B\n",
            "\n",
            "A\n"
          ]
        }
      ],
      "source": [
        "# To extract character from reverse order.\n",
        "\n",
        "reverse_character_1 = string[-1]\n",
        "print(reverse_character_1)\n",
        "print() # for blank row\n",
        "\n",
        "reverse_character_2 = string[-2]\n",
        "print(reverse_character_2)\n",
        "\n",
        "print() # for blank row\n",
        "\n",
        "reverse_character_3 = string[-3]\n",
        "print(reverse_character_3)\n",
        "\n",
        "print() # for blank row\n",
        "\n",
        "reverse_character_4 = string[-4]\n",
        "print(reverse_character_4)"
      ]
    },
    {
      "cell_type": "markdown",
      "metadata": {
        "id": "8T6TGTsimDR5"
      },
      "source": [
        "# String Functions"
      ]
    },
    {
      "cell_type": "code",
      "execution_count": null,
      "metadata": {
        "colab": {
          "base_uri": "https://localhost:8080/"
        },
        "id": "HVHOaaFyjmA7",
        "outputId": "3dd1a238-9943-4ee3-e5a6-0a48c27967e2"
      },
      "outputs": [
        {
          "output_type": "execute_result",
          "data": {
            "text/plain": [
              "4"
            ]
          },
          "metadata": {},
          "execution_count": 16
        }
      ],
      "source": [
        "# Finding length of a string\n",
        "\n",
        "len(string)\n"
      ]
    },
    {
      "cell_type": "code",
      "execution_count": null,
      "metadata": {
        "colab": {
          "base_uri": "https://localhost:8080/"
        },
        "id": "HkhCzVivmXbA",
        "outputId": "acd460cb-90f8-413a-8088-789e9382351e"
      },
      "outputs": [
        {
          "output_type": "stream",
          "name": "stdout",
          "text": [
            "this is my first program\n"
          ]
        }
      ],
      "source": [
        "# Convert a string in lower case.\n",
        "\n",
        "first_program = \"THIS IS MY FIRST PROGRAM\"\n",
        "lower_case_string = first_program.lower()\n",
        "\n",
        "print(lower_case_string)\n"
      ]
    },
    {
      "cell_type": "code",
      "execution_count": null,
      "metadata": {
        "colab": {
          "base_uri": "https://localhost:8080/"
        },
        "id": "obOURpN8mnIA",
        "outputId": "c01b36f6-595f-4c33-c81a-887276d539d8"
      },
      "outputs": [
        {
          "output_type": "stream",
          "name": "stdout",
          "text": [
            "THIS IS MY FIRST PROGRAM\n"
          ]
        }
      ],
      "source": [
        "# Convert a string in upper case.\n",
        "\n",
        "first_program = \"this is my first program\"\n",
        "upper_case_string = first_program.upper()\n",
        "\n",
        "print(upper_case_string)"
      ]
    },
    {
      "cell_type": "code",
      "execution_count": null,
      "metadata": {
        "colab": {
          "base_uri": "https://localhost:8080/"
        },
        "id": "LuxjjLMsp0MH",
        "outputId": "129b5fc4-5c8d-4df7-ba0a-b142ac09ad06"
      },
      "outputs": [
        {
          "output_type": "stream",
          "name": "stdout",
          "text": [
            "This Is My First Program\n"
          ]
        }
      ],
      "source": [
        "# Convert a string in title case.\n",
        "\n",
        "first_program = \"this is my first program\"\n",
        "title_case_string = first_program.title()\n",
        "\n",
        "print(title_case_string)"
      ]
    },
    {
      "cell_type": "code",
      "execution_count": null,
      "metadata": {
        "colab": {
          "base_uri": "https://localhost:8080/"
        },
        "id": "Do2aa5WBoGzP",
        "outputId": "f09a591c-54b5-4e12-bb08-9f06659a4756"
      },
      "outputs": [
        {
          "output_type": "stream",
          "name": "stdout",
          "text": [
            "this is my first program\n"
          ]
        }
      ],
      "source": [
        "# Swap case a string.\n",
        "\n",
        "first_program = \"THIS IS MY FIRST PROGRAM\"\n",
        "swap_case_string = first_program.swapcase()\n",
        "\n",
        "print(swap_case_string)"
      ]
    },
    {
      "cell_type": "code",
      "execution_count": null,
      "metadata": {
        "colab": {
          "base_uri": "https://localhost:8080/"
        },
        "id": "-dRMb8cHoI2X",
        "outputId": "4e14af21-eec3-4456-fef6-7eda12470ecf"
      },
      "outputs": [
        {
          "output_type": "stream",
          "name": "stdout",
          "text": [
            "THIS IS MY FIRST PROGRAM\n"
          ]
        }
      ],
      "source": [
        "first_program = \"this is my first program\"\n",
        "swap_case_string = first_program.swapcase()\n",
        "\n",
        "print(swap_case_string)"
      ]
    },
    {
      "cell_type": "code",
      "execution_count": null,
      "metadata": {
        "colab": {
          "base_uri": "https://localhost:8080/",
          "height": 70
        },
        "id": "7tHeH5GSomWO",
        "outputId": "24af8473-4f17-4071-b922-e5836360c0bc"
      },
      "outputs": [
        {
          "output_type": "stream",
          "name": "stdout",
          "text": [
            "My favourite fruit is Mango\n",
            "\n"
          ]
        },
        {
          "output_type": "execute_result",
          "data": {
            "text/plain": [
              "'My favourite fruit is Apple'"
            ],
            "application/vnd.google.colaboratory.intrinsic+json": {
              "type": "string"
            }
          },
          "metadata": {},
          "execution_count": 22
        }
      ],
      "source": [
        "# Replace a substing. (In replace function a character or a word can be changed).\n",
        "\n",
        "about_me = \"My favourite fruit is Mango\"\n",
        "print(about_me)\n",
        "\n",
        "print() # to insert a blank line.\n",
        "\n",
        "about_me.replace(\"Mango\", \"Apple\")\n"
      ]
    },
    {
      "cell_type": "code",
      "execution_count": null,
      "metadata": {
        "colab": {
          "base_uri": "https://localhost:8080/"
        },
        "id": "ZelFLyOZrTIb",
        "outputId": "983c85e1-8706-4334-e6be-0d4f5d891d6d"
      },
      "outputs": [
        {
          "output_type": "stream",
          "name": "stdout",
          "text": [
            "2\n",
            "\n",
            "3\n"
          ]
        }
      ],
      "source": [
        "# To count number of occurance of substring, can be character or a word.\n",
        "\n",
        "student_list = (\"Kashif\", \"Asif\", \"Nasir\", \"Yasir\", \"Kashif\", \"Asif\")\n",
        "count_substring = student_list.count(\"Kashif\")\n",
        "print(count_substring)\n",
        "\n",
        "print() # to insert a blank line.\n",
        "\n",
        "fruit_name = \"Banana\"\n",
        "count_substring = fruit_name.count(\"a\")\n",
        "print(count_substring)"
      ]
    },
    {
      "cell_type": "code",
      "execution_count": null,
      "metadata": {
        "colab": {
          "base_uri": "https://localhost:8080/"
        },
        "id": "TauacyGMsY4M",
        "outputId": "1f6f1399-28a1-4a4b-c935-87a802700f6b"
      },
      "outputs": [
        {
          "output_type": "stream",
          "name": "stdout",
          "text": [
            "My favourite fruit is Mango\n",
            "\n"
          ]
        },
        {
          "output_type": "execute_result",
          "data": {
            "text/plain": [
              "3"
            ]
          },
          "metadata": {},
          "execution_count": 24
        }
      ],
      "source": [
        "# To find the index of a substring.\n",
        "\n",
        "about_me = \"My favourite fruit is Mango\"\n",
        "print(about_me)\n",
        "\n",
        "print() # to insert a blank line.\n",
        "\n",
        "about_me.find(\"favourite\")"
      ]
    },
    {
      "cell_type": "code",
      "execution_count": null,
      "metadata": {
        "colab": {
          "base_uri": "https://localhost:8080/"
        },
        "id": "Isr31BRNuOxT",
        "outputId": "6099f933-dcd5-4cb6-f115-2274f2b888fd"
      },
      "outputs": [
        {
          "output_type": "stream",
          "name": "stdout",
          "text": [
            "Contents of this course is containing on, python, numpy, pandas\n"
          ]
        },
        {
          "output_type": "execute_result",
          "data": {
            "text/plain": [
              "['Contents of this course is containing on', ' python', ' numpy', ' pandas']"
            ]
          },
          "metadata": {},
          "execution_count": 25
        }
      ],
      "source": [
        "# Split a string using a special character or any entity.\n",
        "\n",
        "course_details = \"Contents of this course is containing on, python, numpy, pandas\"\n",
        "print(course_details)\n",
        "\n",
        "course_details.split(',')\n",
        "\n"
      ]
    },
    {
      "cell_type": "markdown",
      "metadata": {
        "id": "frFG04zOLW9Q"
      },
      "source": [
        "# Data Types in Python\n",
        "1. Tuple\n",
        "2. List\n",
        "3. Dictionary\n",
        "4. Set"
      ]
    },
    {
      "cell_type": "markdown",
      "metadata": {
        "id": "JGiJF79NLl_O"
      },
      "source": [
        "### 1. Tuple\n",
        "Tuple is an order collection of elements enclosed within ( ), elements can be different types (heterogeneous) \\\n",
        "**Note:** Tuples are immmutable (Stored value in Tuple cannot be changed)"
      ]
    },
    {
      "cell_type": "code",
      "execution_count": null,
      "metadata": {
        "colab": {
          "base_uri": "https://localhost:8080/"
        },
        "id": "EyANuf1qMDU9",
        "outputId": "138a12f3-7844-419d-bbe0-d7b0410a3d77"
      },
      "outputs": [
        {
          "output_type": "stream",
          "name": "stdout",
          "text": [
            "(1, 'a', True, 'b', False)\n"
          ]
        }
      ],
      "source": [
        "tup1 = (1, \"a\", True, \"b\", False)\n",
        "print(tup1)"
      ]
    },
    {
      "cell_type": "code",
      "execution_count": null,
      "metadata": {
        "colab": {
          "base_uri": "https://localhost:8080/"
        },
        "id": "tmH2nui5O1Nr",
        "outputId": "000c0e32-dd26-40ca-dc0a-533692139b74"
      },
      "outputs": [
        {
          "output_type": "stream",
          "name": "stdout",
          "text": [
            "1\n",
            "False\n",
            "(1, 'a', True, 'b')\n"
          ]
        }
      ],
      "source": [
        "# Extract one or more elemnts from a Tuple.\n",
        "print(tup1[0])\n",
        "print(tup1[-1])\n",
        "print(tup1[0:4])"
      ]
    },
    {
      "cell_type": "markdown",
      "metadata": {
        "id": "hG9fdjViQg-e"
      },
      "source": [
        "####Basic Operations on Tuple"
      ]
    },
    {
      "cell_type": "code",
      "execution_count": null,
      "metadata": {
        "colab": {
          "base_uri": "https://localhost:8080/"
        },
        "id": "7CrkTXpAPLuw",
        "outputId": "e3547a1d-4b6a-489d-b7c8-8ef33755f175"
      },
      "outputs": [
        {
          "output_type": "execute_result",
          "data": {
            "text/plain": [
              "5"
            ]
          },
          "metadata": {},
          "execution_count": 28
        }
      ],
      "source": [
        "# Finding length of Tuple\n",
        "\n",
        "len(tup1)"
      ]
    },
    {
      "cell_type": "code",
      "execution_count": null,
      "metadata": {
        "colab": {
          "base_uri": "https://localhost:8080/"
        },
        "id": "htC-VCjAQa4Z",
        "outputId": "b72c3ee6-4252-4877-c6f2-4efac570f6a3"
      },
      "outputs": [
        {
          "output_type": "stream",
          "name": "stdout",
          "text": [
            "(1, 2, 3, 4, 5, 6, 7, 8, 9, 10)\n"
          ]
        }
      ],
      "source": [
        "# Concatenation of Tuples\n",
        "\n",
        "tup_1 = (1, 2, 3, 4, 5)\n",
        "tup_2 = (6, 7, 8, 9, 10)\n",
        "\n",
        "print(tup_1 + tup_2)"
      ]
    },
    {
      "cell_type": "code",
      "execution_count": null,
      "metadata": {
        "colab": {
          "base_uri": "https://localhost:8080/"
        },
        "id": "upjOrJjURHYB",
        "outputId": "fc78b0f8-b24c-4cfa-902c-a0a94153c207"
      },
      "outputs": [
        {
          "output_type": "stream",
          "name": "stdout",
          "text": [
            "(1, 2, 3, 4, 5, 1, 2, 3, 4, 5)\n"
          ]
        }
      ],
      "source": [
        "# Repeating Tuple Elements\n",
        "\n",
        "print(tup_1 * 2)\n"
      ]
    },
    {
      "cell_type": "code",
      "execution_count": null,
      "metadata": {
        "colab": {
          "base_uri": "https://localhost:8080/"
        },
        "id": "dVQnhShuSAsC",
        "outputId": "7fbc665c-b759-4bc7-b636-34ad70ba0a01"
      },
      "outputs": [
        {
          "output_type": "stream",
          "name": "stdout",
          "text": [
            "(1, 2, 3, 4, 5, 1, 2, 3, 4, 5, 6, 7, 8, 9, 10)\n"
          ]
        }
      ],
      "source": [
        "# Repeating and concatenting\n",
        "print(tup_1 * 2 + tup_2)"
      ]
    },
    {
      "cell_type": "code",
      "execution_count": null,
      "metadata": {
        "colab": {
          "base_uri": "https://localhost:8080/"
        },
        "id": "nSuOp4OcSds1",
        "outputId": "15d8037f-b454-4f15-a7ef-131a3795575d"
      },
      "outputs": [
        {
          "output_type": "stream",
          "name": "stdout",
          "text": [
            "10\n",
            "1\n"
          ]
        }
      ],
      "source": [
        "# Find maximum and minimum value\n",
        "\n",
        "tup_3 = tup_1 + tup_2\n",
        "print(max(tup_3))\n",
        "print(min(tup_3))\n"
      ]
    },
    {
      "cell_type": "markdown",
      "metadata": {
        "id": "IrSrplTtUC19"
      },
      "source": [
        "### 2. List in Python\n",
        "List is an order collection of elements enclosed within [ ], elements can be different types (heterogeneous) \\\n",
        "\n",
        "**Note:** \\\n",
        "a. List are mmutable (Stored value in List can be changed)\\\n",
        "b. All the above operations of Tuple and List are same"
      ]
    },
    {
      "cell_type": "code",
      "execution_count": null,
      "metadata": {
        "colab": {
          "base_uri": "https://localhost:8080/"
        },
        "id": "6fqPJX_TTvJF",
        "outputId": "4d733432-47de-472e-87e1-248e2712ccd1"
      },
      "outputs": [
        {
          "output_type": "stream",
          "name": "stdout",
          "text": [
            "[1, 'a', True, 'b', False]\n"
          ]
        }
      ],
      "source": [
        "list1 = [1, \"a\", True, \"b\", False]\n",
        "print(list1)"
      ]
    },
    {
      "cell_type": "markdown",
      "source": [
        "#### Basic Operations on List"
      ],
      "metadata": {
        "id": "teFORFJBp2dY"
      }
    },
    {
      "cell_type": "code",
      "execution_count": null,
      "metadata": {
        "colab": {
          "base_uri": "https://localhost:8080/"
        },
        "id": "z8Iqn7fqU7oC",
        "outputId": "adc1f3bb-42c0-4d87-eefd-ec8636552302"
      },
      "outputs": [
        {
          "output_type": "stream",
          "name": "stdout",
          "text": [
            "['Apple', 'a', True, 'b', False]\n"
          ]
        }
      ],
      "source": [
        "# Change an element using index\n",
        "list1[0] = \"Apple\"\n",
        "print(list1)"
      ]
    },
    {
      "cell_type": "code",
      "execution_count": null,
      "metadata": {
        "colab": {
          "base_uri": "https://localhost:8080/"
        },
        "id": "6gz7lxJHfmdx",
        "outputId": "f87d88d1-66a5-4dfd-8ee8-12d4816d6157"
      },
      "outputs": [
        {
          "output_type": "stream",
          "name": "stdout",
          "text": [
            "['Apple', 'a', True, 'b', False, 'Mango']\n"
          ]
        }
      ],
      "source": [
        "# Append a new element in the list\n",
        "list1.append(\"Mango\")\n",
        "print(list1)"
      ]
    },
    {
      "cell_type": "code",
      "execution_count": null,
      "metadata": {
        "colab": {
          "base_uri": "https://localhost:8080/"
        },
        "id": "vnU4NveYfvdv",
        "outputId": "62804c04-f690-439d-8883-d59b94d362c7"
      },
      "outputs": [
        {
          "output_type": "stream",
          "name": "stdout",
          "text": [
            "['Apple', 'a', True, False, 'Mango']\n"
          ]
        }
      ],
      "source": [
        "# Pop an element in the list (It works using index)\n",
        "\n",
        "list1.pop(3) # 3 is an index\n",
        "print(list1)"
      ]
    },
    {
      "cell_type": "code",
      "execution_count": null,
      "metadata": {
        "colab": {
          "base_uri": "https://localhost:8080/"
        },
        "id": "9qt6nEergFCz",
        "outputId": "1ff86d75-738b-40d9-b077-57b61641c4ce"
      },
      "outputs": [
        {
          "output_type": "stream",
          "name": "stdout",
          "text": [
            "['Apple', 'a', False, 'Mango']\n"
          ]
        }
      ],
      "source": [
        "# Remove a specific item from list\n",
        "list1.remove(True)\n",
        "print(list1)"
      ]
    },
    {
      "cell_type": "code",
      "execution_count": null,
      "metadata": {
        "colab": {
          "base_uri": "https://localhost:8080/"
        },
        "id": "YOU_uCxpj_uf",
        "outputId": "02046fa2-40d8-4dad-cde2-a76554607af6"
      },
      "outputs": [
        {
          "output_type": "stream",
          "name": "stdout",
          "text": [
            "['a', False, 'Mango']\n"
          ]
        }
      ],
      "source": [
        "# Delete an elenment using index, del method can delete all the items of a list.\n",
        "del list1[0]\n",
        "print(list1)"
      ]
    },
    {
      "cell_type": "code",
      "execution_count": null,
      "metadata": {
        "id": "Zs0bFcIOk2be"
      },
      "outputs": [],
      "source": [
        "del list1"
      ]
    },
    {
      "cell_type": "code",
      "execution_count": null,
      "metadata": {
        "colab": {
          "base_uri": "https://localhost:8080/"
        },
        "id": "D-u6Fh7qk3xj",
        "outputId": "dfd0dbc3-8cb5-4f64-8586-7dcabc60216b"
      },
      "outputs": [
        {
          "output_type": "stream",
          "name": "stdout",
          "text": [
            "[]\n"
          ]
        }
      ],
      "source": [
        "# Clear all the elements of the list\n",
        "list1 = [1, 2, 3, 4]\n",
        "list1.clear()\n",
        "print(list1)"
      ]
    },
    {
      "cell_type": "code",
      "execution_count": null,
      "metadata": {
        "colab": {
          "base_uri": "https://localhost:8080/"
        },
        "id": "RqBAfHEvlGPB",
        "outputId": "b58b7856-9071-4772-ad1c-c1035b8a7916"
      },
      "outputs": [
        {
          "output_type": "stream",
          "name": "stdout",
          "text": [
            "[9, 8, 7, 6, 5, 4, 3, 2, 1]\n"
          ]
        }
      ],
      "source": [
        "# Reverse the elements of a list\n",
        "\n",
        "list1 = [1, 2, 3, 4, 5, 6, 7, 8, 9]\n",
        "list1.reverse()\n",
        "print(list1)"
      ]
    },
    {
      "cell_type": "code",
      "execution_count": null,
      "metadata": {
        "colab": {
          "base_uri": "https://localhost:8080/"
        },
        "id": "7H4s3R-Xl9MM",
        "outputId": "39cbfd10-54ea-4ea1-9f84-274c3f11b1ff"
      },
      "outputs": [
        {
          "output_type": "stream",
          "name": "stdout",
          "text": [
            "['Apple', 9, 8, 7, 6, 5, 4, 3, 2, 1]\n"
          ]
        }
      ],
      "source": [
        "# Insert an element on a specific index (0 is index and \"Apple\" is an element)\n",
        "list1.insert(0, \"Apple\")\n",
        "print(list1)"
      ]
    },
    {
      "cell_type": "code",
      "execution_count": null,
      "metadata": {
        "colab": {
          "base_uri": "https://localhost:8080/"
        },
        "id": "RsCChxzgmJx_",
        "outputId": "9567ffa7-1e8c-482b-85fd-83ce9debcbe5"
      },
      "outputs": [
        {
          "output_type": "stream",
          "name": "stdout",
          "text": [
            "[1, 2, 3, 4, 5, 6, 7, 8, 9]\n"
          ]
        }
      ],
      "source": [
        "# Sort a list elements\n",
        "list_2 =  [1, 3, 4, 9, 7, 2, 5, 6, 8]\n",
        "list_2.sort()\n",
        "print(list_2)"
      ]
    },
    {
      "cell_type": "markdown",
      "metadata": {
        "id": "XaHjjtfrEWZv"
      },
      "source": [
        "### 3. Dictionary\n",
        "Dictionary is an unordered collection of key-values pairs enclosed in { }.\n",
        "**Note:** Dictionary is mutable"
      ]
    },
    {
      "cell_type": "code",
      "execution_count": null,
      "metadata": {
        "colab": {
          "base_uri": "https://localhost:8080/"
        },
        "id": "sWA_baXTnhyg",
        "outputId": "fb3fc5f6-7f68-4b3b-a47d-f9d73322290c"
      },
      "outputs": [
        {
          "output_type": "execute_result",
          "data": {
            "text/plain": [
              "{'fruit_list': ['Apple', 'Mango', 'Banana'],\n",
              " 'city_names': ['Karachi', 'Lahore', 'Islamabad'],\n",
              " 'color_names': ['Red', 'Green', 'Blue']}"
            ]
          },
          "metadata": {},
          "execution_count": 44
        }
      ],
      "source": [
        "  # Creat a dictionary\n",
        "df_1 = {\n",
        "      \"fruit_list\" : [\"Apple\", \"Mango\", \"Banana\"],\n",
        "      \"city_names\" : [\"Karachi\", \"Lahore\", \"Islamabad\"],\n",
        "      \"color_names\" : [\"Red\", \"Green\", \"Blue\"]\n",
        "       }\n",
        "df_1"
      ]
    },
    {
      "cell_type": "markdown",
      "source": [
        "#### Basic Operations on Dictionary"
      ],
      "metadata": {
        "id": "ISc__kCbp_EG"
      }
    },
    {
      "cell_type": "code",
      "execution_count": null,
      "metadata": {
        "colab": {
          "base_uri": "https://localhost:8080/"
        },
        "id": "GkxUVHVGFRF-",
        "outputId": "f16ae328-a32f-4cf2-85b0-a407dcd15d1b"
      },
      "outputs": [
        {
          "output_type": "execute_result",
          "data": {
            "text/plain": [
              "dict_keys(['fruit_list', 'city_names', 'color_names'])"
            ]
          },
          "metadata": {},
          "execution_count": 45
        }
      ],
      "source": [
        "# Extracting key\n",
        "dic_keys = df_1.keys()\n",
        "dic_keys"
      ]
    },
    {
      "cell_type": "code",
      "execution_count": null,
      "metadata": {
        "colab": {
          "base_uri": "https://localhost:8080/"
        },
        "id": "5qpwZxqmFSE1",
        "outputId": "4614238d-6667-4dba-88e3-3832f00633f2"
      },
      "outputs": [
        {
          "output_type": "execute_result",
          "data": {
            "text/plain": [
              "dict_values([['Apple', 'Mango', 'Banana'], ['Karachi', 'Lahore', 'Islamabad'], ['Red', 'Green', 'Blue']])"
            ]
          },
          "metadata": {},
          "execution_count": 46
        }
      ],
      "source": [
        "# Extracting values\n",
        "dic_values = df_1.values()\n",
        "dic_values"
      ]
    },
    {
      "cell_type": "code",
      "execution_count": null,
      "metadata": {
        "colab": {
          "base_uri": "https://localhost:8080/"
        },
        "id": "vW6ukzAiGLEc",
        "outputId": "e4a2e22d-87a7-473d-cd55-dc2e4c2a65c9"
      },
      "outputs": [
        {
          "output_type": "execute_result",
          "data": {
            "text/plain": [
              "{'student_names': ['Kashif', 'Asif', 'Nasir'], 'class': [1, 2, 3]}"
            ]
          },
          "metadata": {},
          "execution_count": 47
        }
      ],
      "source": [
        "# Adding a new key & value\n",
        "df_2 = {\"student_names\" : [\"Kashif\", \"Asif\", \"Nasir\" ]}\n",
        "df_2[\"class\"] = [1, 2, 3]\n",
        "df_2"
      ]
    },
    {
      "cell_type": "code",
      "execution_count": null,
      "metadata": {
        "id": "PQxU1wiMG7Zz"
      },
      "outputs": [],
      "source": [
        "# Changing exist value\n",
        "df_2[\"student_names\"] = [\"Ammar\", \"Hamza\", \"Imran\"]"
      ]
    },
    {
      "cell_type": "code",
      "execution_count": null,
      "metadata": {
        "colab": {
          "base_uri": "https://localhost:8080/"
        },
        "id": "iG8oxjb2IH8o",
        "outputId": "e5372b6a-8777-4323-be14-1d77a6527831"
      },
      "outputs": [
        {
          "output_type": "execute_result",
          "data": {
            "text/plain": [
              "{'student_names': ['Ammar', 'Hamza', 'Imran'], 'class': [1, 2, 3]}"
            ]
          },
          "metadata": {},
          "execution_count": 49
        }
      ],
      "source": [
        "df_2"
      ]
    },
    {
      "cell_type": "code",
      "execution_count": null,
      "metadata": {
        "id": "iQPD2gGqIJbp"
      },
      "outputs": [],
      "source": [
        "# Update/ append elements of an dictionary with another.\n",
        "\n",
        "data_1 = {\n",
        "    \"series_1\" : [1, 2, 3, 4]\n",
        "  }\n",
        "\n",
        "data_2 = {\n",
        "    \"series_2\" : [5, 6, 7, 8]\n",
        "  }\n",
        "\n",
        "data_1.update(data_2)"
      ]
    },
    {
      "cell_type": "code",
      "execution_count": null,
      "metadata": {
        "colab": {
          "base_uri": "https://localhost:8080/"
        },
        "id": "OUfmI0l6J4Oq",
        "outputId": "535a0cd5-1252-43e8-a355-7f5addfd6d16"
      },
      "outputs": [
        {
          "output_type": "execute_result",
          "data": {
            "text/plain": [
              "{'fruit_list': ['Apple', 'Mango', 'Banana'],\n",
              " 'city_names': ['Karachi', 'Lahore', 'Islamabad']}"
            ]
          },
          "metadata": {},
          "execution_count": 51
        }
      ],
      "source": [
        "# Pop a key and value\n",
        "\n",
        "df_1 = {\n",
        "      \"fruit_list\" : [\"Apple\", \"Mango\", \"Banana\"],\n",
        "      \"city_names\" : [\"Karachi\", \"Lahore\", \"Islamabad\"],\n",
        "      \"color_names\" : [\"Red\", \"Green\", \"Blue\"]\n",
        "       }\n",
        "\n",
        "df_1.pop(\"color_names\")\n",
        "df_1"
      ]
    },
    {
      "cell_type": "markdown",
      "metadata": {
        "id": "y2DPfdHkyaQQ"
      },
      "source": [
        "### Set in Python\n",
        "Set is unordered and unindexed collection of elements enclosed with { }, duplicates are not allowed in set."
      ]
    },
    {
      "cell_type": "code",
      "execution_count": null,
      "metadata": {
        "colab": {
          "base_uri": "https://localhost:8080/"
        },
        "id": "Pk_7N7RqK5kw",
        "outputId": "9d7fdcae-2aa7-4828-dc1e-8684df552dbc"
      },
      "outputs": [
        {
          "output_type": "stream",
          "name": "stdout",
          "text": [
            "{1, 2, 3, 4}\n"
          ]
        }
      ],
      "source": [
        "set_1 = {1, 2, 3, 4, 4} # Set don't allow duplicates.\n",
        "print(set_1)"
      ]
    },
    {
      "cell_type": "markdown",
      "source": [
        "#### Basic Operations Sets"
      ],
      "metadata": {
        "id": "VqDtTrjfqFlf"
      }
    },
    {
      "cell_type": "code",
      "execution_count": null,
      "metadata": {
        "colab": {
          "base_uri": "https://localhost:8080/"
        },
        "id": "OpehOsk4y6Kc",
        "outputId": "6852f80a-c07e-47a0-bc8a-5931d06e4adf"
      },
      "outputs": [
        {
          "output_type": "stream",
          "name": "stdout",
          "text": [
            "{1, 2, 3, 4, 'Hello'}\n"
          ]
        }
      ],
      "source": [
        "# Update an element in set.\n",
        "set_1.add(\"Hello\")\n",
        "print(set_1)"
      ]
    },
    {
      "cell_type": "code",
      "execution_count": null,
      "metadata": {
        "colab": {
          "base_uri": "https://localhost:8080/"
        },
        "id": "Pi2tgIhXzXMx",
        "outputId": "061e8596-8095-4d4d-d205-2f463cc75de7"
      },
      "outputs": [
        {
          "output_type": "stream",
          "name": "stdout",
          "text": [
            "{1, 2, 3, 4, 6, 7, 8, 9, 10, 'Hello'}\n"
          ]
        }
      ],
      "source": [
        "# Add multiple elements in a set.\n",
        "set_1.update([6, 7, 8, 9, 10])\n",
        "print(set_1)"
      ]
    },
    {
      "cell_type": "code",
      "execution_count": null,
      "metadata": {
        "colab": {
          "base_uri": "https://localhost:8080/"
        },
        "id": "Zz3WeIJAz4Bq",
        "outputId": "fa1d1e17-a4d1-44ff-e5b6-f2dd875f24e3"
      },
      "outputs": [
        {
          "output_type": "stream",
          "name": "stdout",
          "text": [
            "{1, 2, 3, 4, 6, 7, 8, 9, 'Hello'}\n"
          ]
        }
      ],
      "source": [
        "# Remove an element\n",
        "set_1.remove(10)\n",
        "print(set_1)"
      ]
    },
    {
      "cell_type": "code",
      "execution_count": null,
      "metadata": {
        "colab": {
          "base_uri": "https://localhost:8080/"
        },
        "id": "ryqXaBJo0h8s",
        "outputId": "1cc2a249-ed06-4b1b-e46b-dc1858372af5"
      },
      "outputs": [
        {
          "output_type": "execute_result",
          "data": {
            "text/plain": [
              "{1, 2, 3, 4, 5, 6, 7, 8, 9, 10}"
            ]
          },
          "metadata": {},
          "execution_count": 56
        }
      ],
      "source": [
        "# Uninon/ Concatenate two sets.\n",
        "set_2 = {1, 2, 3, 4, 5, 6}\n",
        "set_3 = {5, 6, 7, 8, 9, 10}\n",
        "set_2.union(set_3)"
      ]
    },
    {
      "cell_type": "code",
      "execution_count": null,
      "metadata": {
        "colab": {
          "base_uri": "https://localhost:8080/"
        },
        "id": "JEyoFhXH1W_4",
        "outputId": "37aa7f73-f8db-4f3d-a5e2-ee28d30b0072"
      },
      "outputs": [
        {
          "output_type": "execute_result",
          "data": {
            "text/plain": [
              "{5, 6}"
            ]
          },
          "metadata": {},
          "execution_count": 57
        }
      ],
      "source": [
        "# Intersect two set (find common elements)\n",
        "set_2.intersection(set_3)"
      ]
    },
    {
      "cell_type": "markdown",
      "metadata": {
        "id": "uSkwDEr412kC"
      },
      "source": [
        "# If Statement"
      ]
    },
    {
      "cell_type": "code",
      "execution_count": null,
      "metadata": {
        "colab": {
          "base_uri": "https://localhost:8080/"
        },
        "id": "_fOYe4Fe1kfs",
        "outputId": "818bfd5e-f981-4a4b-85f0-4637b9e0d7d0"
      },
      "outputs": [
        {
          "output_type": "stream",
          "name": "stdout",
          "text": [
            "I got marks in exams: 65\n",
            "Get a party\n"
          ]
        }
      ],
      "source": [
        "# If you got marks in exam more than or equal to 60 (Get a party)\n",
        "# else (do work hard)\n",
        "\n",
        "a = 60\n",
        "question = int(input(\"I got marks in exams: \"))\n",
        "\n",
        "if question >= a:\n",
        "    print(\"Get a party\")\n",
        "else:\n",
        "   print(\"Do work hard\")"
      ]
    },
    {
      "cell_type": "code",
      "execution_count": null,
      "metadata": {
        "colab": {
          "base_uri": "https://localhost:8080/"
        },
        "id": "qcxZqULw3fmI",
        "outputId": "66dd8f9a-a47f-4e00-ce58-81e6fe115cd9"
      },
      "outputs": [
        {
          "output_type": "stream",
          "name": "stdout",
          "text": [
            "c is greatest number\n"
          ]
        }
      ],
      "source": [
        "# What is the greatest number\n",
        "\n",
        "a = 10\n",
        "b = 20\n",
        "c = 30\n",
        "\n",
        "if a > b & a > c:\n",
        "  print(\"a is greatest number\")\n",
        "elif b > a & b > c:\n",
        "  print(\"b is greatest number\")\n",
        "else:\n",
        "  print(\"c is greatest number\")"
      ]
    },
    {
      "cell_type": "code",
      "execution_count": null,
      "metadata": {
        "colab": {
          "base_uri": "https://localhost:8080/"
        },
        "id": "zp48h-UOAlfV",
        "outputId": "d7f5fe54-d78f-49e2-d01b-c73dd24150d9"
      },
      "outputs": [
        {
          "output_type": "stream",
          "name": "stdout",
          "text": [
            "Please type the name to find: Umar\n",
            "Umar is present in the data\n"
          ]
        }
      ],
      "source": [
        "# If condition with Tuple\n",
        "\n",
        "find_data = input(\"Please type the name to find: \")\n",
        "tup_data = (\"Umar\", \"Kashif\", \"Nasir\")\n",
        "\n",
        "if find_data in tup_data:\n",
        "  print(find_data, \"is present in the data\")\n",
        "else:\n",
        "  print(find_data, \"does not present in the data\")"
      ]
    },
    {
      "cell_type": "code",
      "execution_count": null,
      "metadata": {
        "colab": {
          "base_uri": "https://localhost:8080/"
        },
        "id": "UEEntU-TCMH0",
        "outputId": "78639049-f84f-48c6-aacc-feb55dac6c4f"
      },
      "outputs": [
        {
          "output_type": "stream",
          "name": "stdout",
          "text": [
            "Please type the name to match: Umar\n",
            "Please put index number: 0\n",
            "Data has been matched\n"
          ]
        }
      ],
      "source": [
        "# If condition with List\n",
        "\n",
        "find_data = input(\"Please type the name to match: \")\n",
        "index_num = int(input(\"Please put index number: \"))\n",
        "list_data = (\"Umar\", \"Kashif\", \"Nasir\")\n",
        "\n",
        "if find_data in list_data[index_num] == \"Umar\":\n",
        "  print(\"Data has been matched\")\n",
        "else:\n",
        "  print(\"Data does not match\")\n"
      ]
    },
    {
      "cell_type": "code",
      "execution_count": null,
      "metadata": {
        "id": "Ch7v4HKoDTSC",
        "outputId": "535ce728-0346-4233-ee1a-f5f844d30704",
        "colab": {
          "base_uri": "https://localhost:8080/"
        }
      },
      "outputs": [
        {
          "output_type": "stream",
          "name": "stdout",
          "text": [
            "Put a number to add: 100\n",
            "{'K1': 110, 'K2': 20}\n"
          ]
        }
      ],
      "source": [
        "# If statement with dictionary\n",
        "\n",
        "num = int(input(\"Put a number to add: \"))\n",
        "dict_data = {\"K1\": 10, \"K2\":20}\n",
        "\n",
        "if dict_data[\"K1\"] == 10:\n",
        "  dict_data[\"K1\"] = dict_data[\"K1\"] + num\n",
        "print(dict_data)"
      ]
    },
    {
      "cell_type": "markdown",
      "metadata": {
        "id": "lymroi_JRtY0"
      },
      "source": [
        "# While Loop\n",
        "While Loop statement is used to repeat a task multiple times.\n",
        "\n",
        "![While Loop.png](data:image/png;base64,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)"
      ]
    },
    {
      "cell_type": "code",
      "execution_count": null,
      "metadata": {
        "id": "qYOlWd9RFH6I",
        "outputId": "0a79e793-7f9e-4849-9795-e05b76a3f3ca",
        "colab": {
          "base_uri": "https://localhost:8080/"
        }
      },
      "outputs": [
        {
          "output_type": "stream",
          "name": "stdout",
          "text": [
            "1\n",
            "2\n",
            "3\n",
            "4\n",
            "5\n",
            "6\n",
            "7\n",
            "8\n",
            "9\n",
            "10\n"
          ]
        }
      ],
      "source": [
        "# Print counting from 1 to 10.\n",
        "\n",
        "i = 1\n",
        "\n",
        "while i <= 10:\n",
        "  print(i)\n",
        "  i = i + 1"
      ]
    },
    {
      "cell_type": "code",
      "execution_count": null,
      "metadata": {
        "id": "eFuQ5BkUE7U9",
        "outputId": "0378ab8c-33de-4e4c-eb8c-7c2c576da039",
        "colab": {
          "base_uri": "https://localhost:8080/"
        }
      },
      "outputs": [
        {
          "output_type": "stream",
          "name": "stdout",
          "text": [
            "2 * 1 = 2\n",
            "2 * 2 = 4\n",
            "2 * 3 = 6\n",
            "2 * 4 = 8\n",
            "2 * 5 = 10\n",
            "2 * 6 = 12\n",
            "2 * 7 = 14\n",
            "2 * 8 = 16\n",
            "2 * 9 = 18\n",
            "2 * 10 = 20\n"
          ]
        }
      ],
      "source": [
        "# creating table of 2 using while loop.\n",
        "i = 1\n",
        "n = 2\n",
        "\n",
        "while i <= 10:\n",
        "  print(n,\"*\",i,\"=\",i*2)\n",
        "  i = i + 1"
      ]
    },
    {
      "cell_type": "code",
      "execution_count": null,
      "metadata": {
        "id": "NUhkNClIFgST",
        "outputId": "1b0c3cc4-28ea-435d-cca5-1108e4887171",
        "colab": {
          "base_uri": "https://localhost:8080/"
        }
      },
      "outputs": [
        {
          "output_type": "stream",
          "name": "stdout",
          "text": [
            "1\n",
            "2\n",
            "3\n",
            "4\n",
            "5\n",
            "6\n",
            "7\n",
            "8\n",
            "10\n"
          ]
        }
      ],
      "source": [
        "# Print a list using while loop.\n",
        "\n",
        "list_x = [1, 2, 3, 4, 5, 6, 7, 8, 10]\n",
        "i = 0\n",
        "\n",
        "while i < len(list_x):\n",
        "  print(list_x[i])\n",
        "  i = i + 1"
      ]
    },
    {
      "cell_type": "markdown",
      "metadata": {
        "id": "737azK05KOaN"
      },
      "source": [
        "# For Loop\n",
        "For loop is used to iterate over a sequence(string, tuple, list, dictionary..)"
      ]
    },
    {
      "cell_type": "code",
      "execution_count": null,
      "metadata": {
        "id": "pOStEyqjG8Rc",
        "outputId": "ccffabe5-cf24-4dee-f80c-96ab6f26afdf",
        "colab": {
          "base_uri": "https://localhost:8080/"
        }
      },
      "outputs": [
        {
          "output_type": "stream",
          "name": "stdout",
          "text": [
            "Mango\n",
            "Apple\n",
            "Grapes\n",
            "Orange\n"
          ]
        }
      ],
      "source": [
        "# Print elements of list individually.\n",
        "\n",
        "fruit_list = ['Mango', 'Apple', 'Grapes', 'Orange']\n",
        "\n",
        "for i in fruit_list:\n",
        "  print(i)"
      ]
    },
    {
      "cell_type": "code",
      "execution_count": null,
      "metadata": {
        "id": "A-7lxccYLYz5",
        "outputId": "7759da17-3c3d-4392-af14-aed05c69fbec",
        "colab": {
          "base_uri": "https://localhost:8080/"
        }
      },
      "outputs": [
        {
          "output_type": "stream",
          "name": "stdout",
          "text": [
            "Orange Table\n",
            "Orange Chairs\n",
            "Orange Pen\n",
            "Black Table\n",
            "Black Chairs\n",
            "Black Pen\n",
            "White Table\n",
            "White Chairs\n",
            "White Pen\n"
          ]
        }
      ],
      "source": [
        "# Nested loop\n",
        "\n",
        "item_1 = ['Orange','Black', 'White']\n",
        "item_2 = ['Table', 'Chairs', 'Pen']\n",
        "\n",
        "for i in item_1:\n",
        "  for j in item_2:\n",
        "    print(i,j)"
      ]
    },
    {
      "cell_type": "markdown",
      "metadata": {
        "id": "5jRaZwwyRM7W"
      },
      "source": [
        "# Functions\n",
        "Function is block of code which perform a specific taks."
      ]
    },
    {
      "cell_type": "code",
      "execution_count": null,
      "metadata": {
        "id": "4gW84vV2MD37",
        "outputId": "e764dfd4-ea95-4a29-cbdb-5ba37431ba65",
        "colab": {
          "base_uri": "https://localhost:8080/"
        }
      },
      "outputs": [
        {
          "output_type": "stream",
          "name": "stdout",
          "text": [
            "Hello World\n"
          ]
        }
      ],
      "source": [
        "# Create a simple function.\n",
        "\n",
        "def hello():\n",
        "  print(\"Hello World\")\n",
        "\n",
        "hello()"
      ]
    },
    {
      "cell_type": "code",
      "execution_count": null,
      "metadata": {
        "id": "VTCe2Io7WlRP",
        "outputId": "e678fb2d-5f14-4807-926c-87fbf0caf348",
        "colab": {
          "base_uri": "https://localhost:8080/"
        }
      },
      "outputs": [
        {
          "output_type": "execute_result",
          "data": {
            "text/plain": [
              "110"
            ]
          },
          "metadata": {},
          "execution_count": 69
        }
      ],
      "source": [
        "# Create a function with parameters to add numbers.\n",
        "\n",
        "def add_fun(x):\n",
        "  return x + 10\n",
        "\n",
        "add_fun(100)"
      ]
    },
    {
      "cell_type": "code",
      "execution_count": null,
      "metadata": {
        "id": "Fz7q42XrXREr"
      },
      "outputs": [],
      "source": [
        "# Create a function to find value of x is even or odd\n",
        "\n",
        "def find_even_odd(x):\n",
        "\n",
        "  if x % 2 == 0:\n",
        "    print(x, \"is an even number\")\n",
        "  else:\n",
        "    print(x, \"is an odd number\")"
      ]
    },
    {
      "cell_type": "code",
      "execution_count": null,
      "metadata": {
        "id": "wmobu49TYuYU",
        "outputId": "c6d4dd93-41e9-4ac8-c696-40f04a7af1a5",
        "colab": {
          "base_uri": "https://localhost:8080/"
        }
      },
      "outputs": [
        {
          "output_type": "stream",
          "name": "stdout",
          "text": [
            "6 is an even number\n",
            "7 is an odd number\n"
          ]
        }
      ],
      "source": [
        "find_even_odd(6)\n",
        "find_even_odd(7)"
      ]
    },
    {
      "cell_type": "markdown",
      "metadata": {
        "id": "r37WNS17ai6h"
      },
      "source": [
        "# Lambda Function\n",
        "A lambda function is a small anonymous function.\\\n",
        "A lambda function can take any number of arguments, but can only have one expression.\n",
        "\n"
      ]
    },
    {
      "cell_type": "code",
      "execution_count": null,
      "metadata": {
        "id": "Jrkwuc-oZp--",
        "outputId": "84e8a3b7-b250-4e82-de28-48cea161b4ab",
        "colab": {
          "base_uri": "https://localhost:8080/"
        }
      },
      "outputs": [
        {
          "output_type": "execute_result",
          "data": {
            "text/plain": [
              "12"
            ]
          },
          "metadata": {},
          "execution_count": 72
        }
      ],
      "source": [
        "# Lambda Function is used with other function filer, map, reduce\n",
        "x_function = lambda x: x + 10\n",
        "x_function(2)"
      ]
    },
    {
      "cell_type": "code",
      "execution_count": null,
      "metadata": {
        "id": "chjXFYTOfGcw",
        "colab": {
          "base_uri": "https://localhost:8080/"
        },
        "outputId": "e0e0c94d-c593-45c3-94f9-9c099ba6dfaa"
      },
      "outputs": [
        {
          "output_type": "execute_result",
          "data": {
            "text/plain": [
              "[87, 47, 27]"
            ]
          },
          "metadata": {},
          "execution_count": 73
        }
      ],
      "source": [
        "# Lambda with filter function\n",
        "# filter has two parameters (lambda function, num_list)\n",
        "\n",
        "num_list = [87, 56, 90, 34, 44, 47, 27]\n",
        "\n",
        "filtered_list = list(filter(lambda x: (x % 2 != 0), num_list))\n",
        "filtered_list"
      ]
    },
    {
      "cell_type": "code",
      "source": [
        "# Lambda with map function\n",
        "# Task is multiply the list numbers with 2, map function helps to perform a task on each numbers individually.\n",
        "\n",
        "serial_list = [1, 2, 3, 4, 5, 6, 7, 8, 9, 10]\n",
        "\n",
        "table_final=list(map(lambda x: (x * 2), serial_list))\n",
        "table_final"
      ],
      "metadata": {
        "colab": {
          "base_uri": "https://localhost:8080/"
        },
        "id": "MnKDkiHEmoqJ",
        "outputId": "998f704c-1540-465f-ab7c-b7a0225a4601"
      },
      "execution_count": null,
      "outputs": [
        {
          "output_type": "execute_result",
          "data": {
            "text/plain": [
              "[2, 4, 6, 8, 10, 12, 14, 16, 18, 20]"
            ]
          },
          "metadata": {},
          "execution_count": 3
        }
      ]
    },
    {
      "cell_type": "code",
      "source": [
        "# Reduce Function\n",
        "# Reduce Function is used to get a final result on a sequence.\n",
        "\n",
        "from functools import reduce\n",
        "sum = reduce(lambda x,y: x+y, serial_list)\n",
        "sum"
      ],
      "metadata": {
        "colab": {
          "base_uri": "https://localhost:8080/"
        },
        "id": "j0os01b9noHo",
        "outputId": "8553160c-580e-4e0c-947d-84a5d56371c9"
      },
      "execution_count": null,
      "outputs": [
        {
          "output_type": "execute_result",
          "data": {
            "text/plain": [
              "55"
            ]
          },
          "metadata": {},
          "execution_count": 5
        }
      ]
    },
    {
      "cell_type": "markdown",
      "source": [
        "# Object Oriented Programming (Oops)\n",
        "Creating the first Class (created function inside the class calls method)\n",
        "\n",
        "**STEPS:**\\\n",
        "  a. Creating the \"DataSum\" class (class should be Camel Case)\\\n",
        "  b. Instantiating the \"ds\" object\\\n",
        "  c. Invoke methods through object\n"
      ],
      "metadata": {
        "id": "M6ZNslij1YGU"
      }
    },
    {
      "cell_type": "code",
      "source": [
        "# a. Defining a class\n",
        "class DataSum:\n",
        "  def sum_nums (self): # self is an object mostly used in python.\n",
        "    print(3+4)\n",
        "\n",
        "# b. Instantiating object of the class\n",
        "ds = DataSum()\n",
        "\n",
        "# c. Invoke methods through object\n",
        "ds.sum_nums()"
      ],
      "metadata": {
        "id": "v0DAXRvMoZmo",
        "colab": {
          "base_uri": "https://localhost:8080/"
        },
        "outputId": "840fabf9-e891-49c1-a6bc-f14cbe8096c3"
      },
      "execution_count": null,
      "outputs": [
        {
          "output_type": "stream",
          "name": "stdout",
          "text": [
            "7\n"
          ]
        }
      ]
    },
    {
      "cell_type": "markdown",
      "source": [
        "### Methods"
      ],
      "metadata": {
        "id": "2KecQAjOSx_1"
      }
    },
    {
      "cell_type": "code",
      "source": [
        "# Use of self\n",
        "\n",
        "class DrawCash:\n",
        "\n",
        "  a = 2000 # created a variable outside the function\n",
        "\n",
        "  def your_cash(self):\n",
        "\n",
        "    # print(a) # the created variable cannot be used without the permission of self, it will threw error.\n",
        "    print(self.a)\n",
        "\n",
        "dc = DrawCash()\n",
        "dc.your_cash()\n"
      ],
      "metadata": {
        "id": "JQYGZNFF2xhs",
        "colab": {
          "base_uri": "https://localhost:8080/"
        },
        "outputId": "fef31036-b025-401e-fb27-48f79a2fd02e"
      },
      "execution_count": null,
      "outputs": [
        {
          "output_type": "stream",
          "name": "stdout",
          "text": [
            "2000\n"
          ]
        }
      ]
    },
    {
      "cell_type": "code",
      "source": [
        "# another use of self\n",
        "\n",
        "class PayCash:\n",
        "\n",
        "  b = 10\n",
        "\n",
        "  def pay_cash(self):\n",
        "    self.c = self.b * self.b # created a variable inside the function with the permission of self as well as calculated.\n",
        "    print(self.c)\n",
        "\n",
        "pc = PayCash()\n",
        "pc.pay_cash()"
      ],
      "metadata": {
        "colab": {
          "base_uri": "https://localhost:8080/"
        },
        "id": "FvleI1dZ3Fn8",
        "outputId": "c7ba9302-9d67-45a5-9b2f-72df0d2b0713"
      },
      "execution_count": null,
      "outputs": [
        {
          "output_type": "stream",
          "name": "stdout",
          "text": [
            "100\n"
          ]
        }
      ]
    },
    {
      "cell_type": "code",
      "source": [
        "# use of multiple parameters with self\n",
        "\n",
        "class MulData:\n",
        "  def multi_nums (self, a, b): # use of multiple parameters with self.\n",
        "    print(a * b)\n",
        "\n",
        "md = MulData()\n",
        "md.multi_nums(10 ,50)"
      ],
      "metadata": {
        "colab": {
          "base_uri": "https://localhost:8080/"
        },
        "id": "biAF-iUeWll5",
        "outputId": "14bac202-c7d0-49ca-b3db-b0459fce2063"
      },
      "execution_count": null,
      "outputs": [
        {
          "output_type": "stream",
          "name": "stdout",
          "text": [
            "500\n"
          ]
        }
      ]
    },
    {
      "cell_type": "markdown",
      "source": [
        "### Constructor\n",
        "(Python supports a special type of method called constructor for initializing the instance variable of a class)."
      ],
      "metadata": {
        "id": "sXq_pSeiYJPI"
      }
    },
    {
      "cell_type": "code",
      "source": [
        "class MyClass:\n",
        "  def __init__ (self): # When use __init__ it calls construction despite function.\n",
        "    print(\"Hello I am contructor\")\n",
        "\n",
        "mc = MyClass() # in __init_ there is no need to call the method."
      ],
      "metadata": {
        "colab": {
          "base_uri": "https://localhost:8080/"
        },
        "id": "fqzbKwIHX1Zp",
        "outputId": "7d7fb42e-1bb4-4588-ff14-540ace7ec3b6"
      },
      "execution_count": null,
      "outputs": [
        {
          "output_type": "stream",
          "name": "stdout",
          "text": [
            "Hello I am contructor\n"
          ]
        }
      ]
    },
    {
      "cell_type": "markdown",
      "source": [
        "### Inheritance"
      ],
      "metadata": {
        "id": "i55qeKmPgQxk"
      }
    },
    {
      "cell_type": "code",
      "source": [
        "# Single level inheritance\n",
        "\n",
        "class A:\n",
        "\n",
        "  def print_a (self):\n",
        "    print(\"Hello World A\")\n",
        "\n",
        "class B(A): # Single class inheritance\n",
        "\n",
        "  def print_b (self):\n",
        "    print(\"Hello World B\")\n",
        "\n",
        "obj_b = B() # due to Class A inherited with Class B, hence method of Class A can also be called without creating its object.\n",
        "\n",
        "obj_b.print_a()\n",
        "obj_b.print_b()"
      ],
      "metadata": {
        "colab": {
          "base_uri": "https://localhost:8080/"
        },
        "id": "QXx6CLFoacwe",
        "outputId": "61cb037f-5bc3-47e9-d9e0-7047117a9658"
      },
      "execution_count": null,
      "outputs": [
        {
          "output_type": "stream",
          "name": "stdout",
          "text": [
            "Hello World A\n",
            "Hello World B\n"
          ]
        }
      ]
    },
    {
      "cell_type": "code",
      "source": [
        "# Multi level inheritance\n",
        "\n",
        "class X:\n",
        "  def print_x (self):\n",
        "    print(\"This is class x\")\n",
        "\n",
        "class Y:\n",
        "  def print_y (self):\n",
        "    print(\"This is class y\")\n",
        "\n",
        "class Z(X,Y):\n",
        "  def print_z (self):\n",
        "    print(\"This is class z\")\n",
        "\n",
        "objz = Z()\n",
        "\n",
        "objz.print_x()\n",
        "objz.print_y()\n",
        "objz.print_z()"
      ],
      "metadata": {
        "colab": {
          "base_uri": "https://localhost:8080/"
        },
        "id": "kYgQSaNHkKlT",
        "outputId": "af0ef7b6-c448-4b2d-e8ac-6ccb1b9ba343"
      },
      "execution_count": null,
      "outputs": [
        {
          "output_type": "stream",
          "name": "stdout",
          "text": [
            "This is class x\n",
            "This is class y\n",
            "This is class z\n"
          ]
        }
      ]
    }
  ],
  "metadata": {
    "colab": {
      "provenance": [],
      "toc_visible": true
    },
    "kernelspec": {
      "display_name": "Python 3",
      "name": "python3"
    },
    "language_info": {
      "codemirror_mode": {
        "name": "ipython",
        "version": 3
      },
      "file_extension": ".py",
      "mimetype": "text/x-python",
      "name": "python",
      "nbconvert_exporter": "python",
      "pygments_lexer": "ipython3",
      "version": "3.12.1"
    }
  },
  "nbformat": 4,
  "nbformat_minor": 0
}